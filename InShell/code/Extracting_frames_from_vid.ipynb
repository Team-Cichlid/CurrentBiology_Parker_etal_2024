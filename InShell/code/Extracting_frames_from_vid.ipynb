{
 "cells": [
  {
   "cell_type": "code",
   "execution_count": 1,
   "id": "3472b0c2-ca55-47e3-be3d-56b861f97cbb",
   "metadata": {},
   "outputs": [],
   "source": [
    "import cv2\n",
    "\n",
    "# Set the path to the input video file\n",
    "video_path = \"/home/ashparker/mnt/datastore/_Projects/Lukas/Cichlid_Project/Recordings/20230426/out_id0_10fps_20230426173311.avi\"\n",
    "\n",
    "# Open the video file\n",
    "cap = cv2.VideoCapture(video_path)\n",
    "\n",
    "# Set the frame rate of the video\n",
    "fps = cap.get(cv2.CAP_PROP_FPS)\n",
    "\n",
    "# Set the time interval between two consecutive frames that correspond to one minute\n",
    "frame_interval = int(fps * 60)\n",
    "\n",
    "# Initialize a variable to keep track of the minute index\n",
    "minute_index = 0\n",
    "\n",
    "# Loop through the video frames\n",
    "while cap.isOpened():\n",
    "    # Read the next frame\n",
    "    ret, frame = cap.read()\n",
    "    \n",
    "    # Check if the frame was successfully read\n",
    "    if ret:\n",
    "        # Check if the current frame index corresponds to one minute\n",
    "        if (minute_index * frame_interval) <= cap.get(cv2.CAP_PROP_POS_FRAMES) < ((minute_index + 1) * frame_interval):\n",
    "            # Save the current frame to a file\n",
    "            cv2.imwrite(\"/zstorage/hera/Light_dark/Lukas_setup/experiments/20230426_173311/output_frame_%d.jpg\" % minute_index, frame)\n",
    "\n",
    "        \n",
    "        # Check if we have reached the end of the video\n",
    "        if not ret:\n",
    "            break\n",
    "        \n",
    "        # Increment the minute index if we have reached the end of a minute\n",
    "        if cap.get(cv2.CAP_PROP_POS_FRAMES) % frame_interval == 0:\n",
    "            minute_index += 1\n",
    "    else:\n",
    "        break\n",
    "\n",
    "# Release the video file\n",
    "cap.release()"
   ]
  },
  {
   "cell_type": "code",
   "execution_count": null,
   "id": "2381d573-1bfd-4dbd-a176-2b026a19ca2a",
   "metadata": {},
   "outputs": [],
   "source": []
  }
 ],
 "metadata": {
  "kernelspec": {
   "display_name": "Python 3 (ipykernel)",
   "language": "python",
   "name": "python3"
  },
  "language_info": {
   "codemirror_mode": {
    "name": "ipython",
    "version": 3
   },
   "file_extension": ".py",
   "mimetype": "text/x-python",
   "name": "python",
   "nbconvert_exporter": "python",
   "pygments_lexer": "ipython3",
   "version": "3.7.12"
  }
 },
 "nbformat": 4,
 "nbformat_minor": 5
}
