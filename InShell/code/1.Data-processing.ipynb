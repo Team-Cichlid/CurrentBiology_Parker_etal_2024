{
 "cells": [
  {
   "cell_type": "code",
   "execution_count": 23,
   "id": "519b8b0f-fea0-4a17-b5f3-55f4b6555e09",
   "metadata": {},
   "outputs": [
    {
     "name": "stdout",
     "output_type": "stream",
     "text": [
      "The autoreload extension is already loaded. To reload it, use:\n",
      "  %reload_ext autoreload\n"
     ]
    }
   ],
   "source": [
    "# Import necessary libraries\n",
    "from dataframe_utils import * # this imports all the functions from our dataframe_utils including all the imports\n",
    "from plotting_utils import * # this imports all the functions from our plotting_utils\n",
    "%load_ext autoreload\n",
    "%autoreload 2"
   ]
  },
  {
   "cell_type": "code",
   "execution_count": 24,
   "id": "2bc5bb3e-0f9f-4228-b26f-170400dae6a7",
   "metadata": {
    "tags": []
   },
   "outputs": [
    {
     "data": {
      "text/plain": [
       "'p:\\\\Anaysis\\\\Inshell\\\\code'"
      ]
     },
     "execution_count": 24,
     "metadata": {},
     "output_type": "execute_result"
    }
   ],
   "source": [
    "os.getcwd()\n",
    "# this is a windows command"
   ]
  },
  {
   "cell_type": "code",
   "execution_count": 25,
   "id": "10affee5-d591-4d0d-b51e-78bdf0ce7ebc",
   "metadata": {},
   "outputs": [],
   "source": [
    "# NB this needs to change for each anaylsis run\n",
    "run_name = \"202407\"\n",
    "model = \"model6\""
   ]
  },
  {
   "cell_type": "code",
   "execution_count": 26,
   "id": "e3b6b5ca-658a-4fe5-b669-12d631a4d7dc",
   "metadata": {},
   "outputs": [
    {
     "data": {
      "text/html": [
       "<div>\n",
       "<style scoped>\n",
       "    .dataframe tbody tr th:only-of-type {\n",
       "        vertical-align: middle;\n",
       "    }\n",
       "\n",
       "    .dataframe tbody tr th {\n",
       "        vertical-align: top;\n",
       "    }\n",
       "\n",
       "    .dataframe thead th {\n",
       "        text-align: right;\n",
       "    }\n",
       "</style>\n",
       "<table border=\"1\" class=\"dataframe\">\n",
       "  <thead>\n",
       "    <tr style=\"text-align: right;\">\n",
       "      <th></th>\n",
       "      <th>file_name</th>\n",
       "      <th>file_type</th>\n",
       "      <th>frame</th>\n",
       "      <th>class</th>\n",
       "      <th>xcenter_normalized</th>\n",
       "      <th>ycenter_normalized</th>\n",
       "      <th>width_normalized</th>\n",
       "      <th>height_normalized</th>\n",
       "      <th>confidence</th>\n",
       "    </tr>\n",
       "  </thead>\n",
       "  <tbody>\n",
       "    <tr>\n",
       "      <th>0</th>\n",
       "      <td>20240716_090306_030</td>\n",
       "      <td>image_</td>\n",
       "      <td>0</td>\n",
       "      <td>egg</td>\n",
       "      <td>0.293457</td>\n",
       "      <td>0.600342</td>\n",
       "      <td>0.037109</td>\n",
       "      <td>0.028809</td>\n",
       "      <td>0.259242</td>\n",
       "    </tr>\n",
       "    <tr>\n",
       "      <th>1</th>\n",
       "      <td>20240716_090306_030</td>\n",
       "      <td>image_</td>\n",
       "      <td>0</td>\n",
       "      <td>egg</td>\n",
       "      <td>0.293213</td>\n",
       "      <td>0.573242</td>\n",
       "      <td>0.041504</td>\n",
       "      <td>0.027344</td>\n",
       "      <td>0.428835</td>\n",
       "    </tr>\n",
       "    <tr>\n",
       "      <th>2</th>\n",
       "      <td>20240716_093811_030</td>\n",
       "      <td>image_</td>\n",
       "      <td>0</td>\n",
       "      <td>egg</td>\n",
       "      <td>0.274902</td>\n",
       "      <td>0.417969</td>\n",
       "      <td>0.044922</td>\n",
       "      <td>0.040039</td>\n",
       "      <td>0.335305</td>\n",
       "    </tr>\n",
       "    <tr>\n",
       "      <th>3</th>\n",
       "      <td>20240716_093811_030</td>\n",
       "      <td>image_</td>\n",
       "      <td>0</td>\n",
       "      <td>egg</td>\n",
       "      <td>0.265869</td>\n",
       "      <td>0.426758</td>\n",
       "      <td>0.038574</td>\n",
       "      <td>0.038086</td>\n",
       "      <td>0.401917</td>\n",
       "    </tr>\n",
       "    <tr>\n",
       "      <th>4</th>\n",
       "      <td>20240716_094512_030</td>\n",
       "      <td>image_</td>\n",
       "      <td>0</td>\n",
       "      <td>egg</td>\n",
       "      <td>0.271729</td>\n",
       "      <td>0.422852</td>\n",
       "      <td>0.046387</td>\n",
       "      <td>0.042969</td>\n",
       "      <td>0.423249</td>\n",
       "    </tr>\n",
       "  </tbody>\n",
       "</table>\n",
       "</div>"
      ],
      "text/plain": [
       "             file_name file_type  frame class  xcenter_normalized  \\\n",
       "0  20240716_090306_030    image_      0   egg            0.293457   \n",
       "1  20240716_090306_030    image_      0   egg            0.293213   \n",
       "2  20240716_093811_030    image_      0   egg            0.274902   \n",
       "3  20240716_093811_030    image_      0   egg            0.265869   \n",
       "4  20240716_094512_030    image_      0   egg            0.271729   \n",
       "\n",
       "   ycenter_normalized  width_normalized  height_normalized  confidence  \n",
       "0            0.600342          0.037109           0.028809    0.259242  \n",
       "1            0.573242          0.041504           0.027344    0.428835  \n",
       "2            0.417969          0.044922           0.040039    0.335305  \n",
       "3            0.426758          0.038574           0.038086    0.401917  \n",
       "4            0.422852          0.046387           0.042969    0.423249  "
      ]
     },
     "execution_count": 26,
     "metadata": {},
     "output_type": "execute_result"
    }
   ],
   "source": [
    "df = pd.read_csv(f'../{run_name}/data/{run_name}_{model}.csv')\n",
    "df.head()"
   ]
  },
  {
   "attachments": {},
   "cell_type": "markdown",
   "id": "9a1dc8b1-1737-4f6a-b11b-56f49497cc61",
   "metadata": {},
   "source": [
    "##  Creating additional columns"
   ]
  },
  {
   "cell_type": "code",
   "execution_count": 27,
   "id": "cae4e4ef-96fe-41ef-b432-53c1dcb9332a",
   "metadata": {},
   "outputs": [],
   "source": [
    "df[\"file_name\"] = df[\"file_name\"].astype(str)\n",
    "# Adding time: add_time_col is a function in dataframe_utils\n",
    "df = add_time_col(df)\n",
    "# Adding dpf: function in dataframe_utils applied to each element in a series (column)\n",
    "df = add_dpf_col_human_time(df)\n",
    "# Adding slice number for each day (not sure if this is important): add_dayslice_col is a function in dataframe_utils\n",
    "df = add_dayslice_col(df)"
   ]
  },
  {
   "cell_type": "code",
   "execution_count": 28,
   "id": "383db6b5-71df-4c94-a322-46e227c7da2c",
   "metadata": {},
   "outputs": [
    {
     "name": "stdout",
     "output_type": "stream",
     "text": [
      "csv saved as../202407_model6_processed_20240807_182231\n"
     ]
    }
   ],
   "source": [
    "timestamp_now = dt.datetime.now().strftime(\"%Y%m%d_%H%M%S\")\n",
    "df.to_csv(f'../{run_name}/data/{run_name}_{model}_processed_{timestamp_now}.csv', index=False)\n",
    "print(\"csv saved as\" + f'../{run_name}_{model}_processed_{timestamp_now}') "
   ]
  },
  {
   "attachments": {},
   "cell_type": "markdown",
   "id": "1a29432c",
   "metadata": {},
   "source": [
    "STOP HERE"
   ]
  },
  {
   "cell_type": "code",
   "execution_count": null,
   "id": "4577c8aa-5fe4-49bb-914d-0760c8a05f47",
   "metadata": {},
   "outputs": [],
   "source": [
    "df['relative_time'] = df['relative_time'].astype('str')"
   ]
  },
  {
   "cell_type": "code",
   "execution_count": null,
   "id": "1b4fb223-ca91-43f6-8d14-e95c4a3763e0",
   "metadata": {},
   "outputs": [],
   "source": [
    "df[\"relative_time\"].iloc[0]"
   ]
  },
  {
   "cell_type": "code",
   "execution_count": null,
   "id": "1bcdfda7-64e9-4042-9c57-44472a2fbeef",
   "metadata": {},
   "outputs": [],
   "source": [
    "df['relative_time'] = df['relative_time'].astype('str')"
   ]
  },
  {
   "cell_type": "code",
   "execution_count": null,
   "id": "d7f9bc3e-9aec-4596-8327-2bd1508ae50e",
   "metadata": {},
   "outputs": [],
   "source": [
    "df[\"relative_time\"].iloc[0]"
   ]
  },
  {
   "cell_type": "code",
   "execution_count": null,
   "id": "3b70212e-40e1-48c7-a91a-23f0514164d7",
   "metadata": {},
   "outputs": [],
   "source": []
  }
 ],
 "metadata": {
  "kernelspec": {
   "display_name": "Python 3 (ipykernel)",
   "language": "python",
   "name": "python3"
  },
  "language_info": {
   "codemirror_mode": {
    "name": "ipython",
    "version": 3
   },
   "file_extension": ".py",
   "mimetype": "text/x-python",
   "name": "python",
   "nbconvert_exporter": "python",
   "pygments_lexer": "ipython3",
   "version": "3.11.4"
  }
 },
 "nbformat": 4,
 "nbformat_minor": 5
}
