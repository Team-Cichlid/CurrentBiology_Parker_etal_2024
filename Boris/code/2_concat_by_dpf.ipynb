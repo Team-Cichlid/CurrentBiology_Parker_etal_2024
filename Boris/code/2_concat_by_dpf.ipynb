{
 "cells": [
  {
   "cell_type": "code",
   "execution_count": 1,
   "metadata": {},
   "outputs": [],
   "source": [
    "import os\n",
    "import pandas as pd"
   ]
  },
  {
   "cell_type": "markdown",
   "metadata": {},
   "source": [
    "### need to delete all All_xdpf_mother_agg.csv files from dat/{experiemnt}"
   ]
  },
  {
   "cell_type": "code",
   "execution_count": 2,
   "metadata": {},
   "outputs": [],
   "source": [
    "experiment = 'Normal_behaviour'\n",
    "\n",
    "# Set the path to the directory containing CSV files\n",
    "directory_path = f'../data/{experiment}'\n",
    "\n",
    "# Get a list of all CSV files in the directory\n",
    "csv_files = [file for file in os.listdir(directory_path) if file.endswith('.csv')]\n",
    "\n",
    "# Create a dictionary to store DataFrames based on 'x' variable\n",
    "dataframes_dict = {}"
   ]
  },
  {
   "cell_type": "code",
   "execution_count": 3,
   "metadata": {},
   "outputs": [],
   "source": [
    "# Iterate through each CSV file\n",
    "for file_name in csv_files:\n",
    "    file_path = os.path.join(directory_path, file_name)\n",
    "\n",
    "    # Extract the 'x' variable from the filename\n",
    "    x_variable = file_name.split('_')[1]\n",
    "\n",
    "    # Read the CSV file into a pandas DataFrame\n",
    "    df = pd.read_csv(file_path)\n",
    "\n",
    "    # Check if the 'x' variable already exists in the dictionary\n",
    "    if x_variable in dataframes_dict:\n",
    "        # Concatenate the current DataFrame with the existing one in the dictionary\n",
    "        dataframes_dict[x_variable] = pd.concat([dataframes_dict[x_variable], df], ignore_index=True)\n",
    "    else:\n",
    "        # Add the DataFrame to the dictionary\n",
    "        dataframes_dict[x_variable] = df\n"
   ]
  },
  {
   "cell_type": "code",
   "execution_count": 5,
   "metadata": {},
   "outputs": [
    {
     "name": "stdout",
     "output_type": "stream",
     "text": [
      "Created ../data/Normal_behaviour\\All_11dpf_mother_agg.csv with concatenated data for 'x' variable: 11dpf.\n",
      "Created ../data/Normal_behaviour\\All_1dpf_mother_agg.csv with concatenated data for 'x' variable: 1dpf.\n",
      "Created ../data/Normal_behaviour\\All_3dpf_mother_agg.csv with concatenated data for 'x' variable: 3dpf.\n",
      "Created ../data/Normal_behaviour\\All_5dpf_mother_agg.csv with concatenated data for 'x' variable: 5dpf.\n",
      "Created ../data/Normal_behaviour\\All_7dpf_mother_agg.csv with concatenated data for 'x' variable: 7dpf.\n",
      "Created ../data/Normal_behaviour\\All_9dpf_mother_agg.csv with concatenated data for 'x' variable: 9dpf.\n",
      "Created ../data/Normal_behaviour\\All_night_mother_agg.csv with concatenated data for 'x' variable: night.\n"
     ]
    }
   ],
   "source": [
    "# Iterate through the dictionary and write each concatenated DataFrame to a new file\n",
    "for x_variable, concatenated_df in dataframes_dict.items():\n",
    "    output_file_path = os.path.join(directory_path, f'All_{x_variable}_mother_agg.csv')\n",
    "    concatenated_df.to_csv(output_file_path, index=False)\n",
    "\n",
    "    print(f\"Created {output_file_path} with concatenated data for 'x' variable: {x_variable}.\")"
   ]
  },
  {
   "cell_type": "markdown",
   "metadata": {},
   "source": [
    "### Note: need to go in and add 0 duration for the runs and behaviours where mother did not perform!"
   ]
  }
 ],
 "metadata": {
  "kernelspec": {
   "display_name": "boris",
   "language": "python",
   "name": "python3"
  },
  "language_info": {
   "codemirror_mode": {
    "name": "ipython",
    "version": 3
   },
   "file_extension": ".py",
   "mimetype": "text/x-python",
   "name": "python",
   "nbconvert_exporter": "python",
   "pygments_lexer": "ipython3",
   "version": "3.11.4"
  }
 },
 "nbformat": 4,
 "nbformat_minor": 2
}
