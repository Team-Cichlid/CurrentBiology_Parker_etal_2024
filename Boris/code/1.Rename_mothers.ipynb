{
 "cells": [
  {
   "cell_type": "code",
   "execution_count": 1,
   "metadata": {},
   "outputs": [],
   "source": [
    "import os\n",
    "import csv\n",
    "import pandas as pd"
   ]
  },
  {
   "cell_type": "code",
   "execution_count": 2,
   "metadata": {},
   "outputs": [],
   "source": [
    "# where is the data (make sure it is a copy as this will override your data file)\n",
    "experiment = 'Normal_behaviour'"
   ]
  },
  {
   "cell_type": "code",
   "execution_count": 3,
   "metadata": {},
   "outputs": [],
   "source": [
    "# Directory containing the CSV files\n",
    "directory_path = f'../data/{experiment}'\n",
    "\n",
    "# Get a list of all CSV files in the directory\n",
    "csv_files = [file for file in os.listdir(directory_path) if file.endswith('.csv')]"
   ]
  },
  {
   "cell_type": "code",
   "execution_count": 4,
   "metadata": {},
   "outputs": [
    {
     "name": "stdout",
     "output_type": "stream",
     "text": [
      "Updated 202106_11dpf_mom_agg.csv with new 'Subject' values.\n",
      "Updated 202106_1dpf_mom_agg.csv with new 'Subject' values.\n",
      "Updated 202106_3dpf_mom_agg.csv with new 'Subject' values.\n",
      "Updated 202106_5dpf_mom_agg.csv with new 'Subject' values.\n",
      "Updated 202106_7dpf_mom_agg.csv with new 'Subject' values.\n",
      "Updated 202106_9dpf_mom_agg.csv with new 'Subject' values.\n",
      "Updated 202106_night_mom_agg.csv with new 'Subject' values.\n",
      "Updated 202107_1dpf_mom_agg.csv with new 'Subject' values.\n",
      "Updated 202107_3dpf_mom_agg.csv with new 'Subject' values.\n",
      "Updated 202107_7dpf_mom_agg.csv with new 'Subject' values.\n",
      "Updated 202108_1dpf_mom_agg.csv with new 'Subject' values.\n",
      "Updated 202108_3dpf_mom_agg.csv with new 'Subject' values.\n",
      "Updated 202108_5dpf_mom_agg.csv with new 'Subject' values.\n",
      "Updated 202108_night_mom_agg.csv with new 'Subject' values.\n",
      "Updated 202203_1dpf_mom_agg.csv with new 'Subject' values.\n",
      "Updated 202203_3dpf_mom_agg.csv with new 'Subject' values.\n",
      "Updated 202207_11dpf_mom_agg.csv with new 'Subject' values.\n",
      "Updated 202207_1dpf_mom_agg.csv with new 'Subject' values.\n",
      "Updated 202207_3dpf_mom_agg.csv with new 'Subject' values.\n",
      "Updated 202207_5dpf_mom_agg.csv with new 'Subject' values.\n",
      "Updated 202207_7dpf_mom_agg.csv with new 'Subject' values.\n",
      "Updated 202207_9dpf_mom_agg.csv with new 'Subject' values.\n",
      "Updated 202207_night_mom_agg.csv with new 'Subject' values.\n",
      "Updated 2022083_1dpf_mom_agg.csv with new 'Subject' values.\n",
      "Updated 202211_1dpf_mom_agg.csv with new 'Subject' values.\n",
      "Updated 202211_3dpf_mom_agg.csv with new 'Subject' values.\n",
      "Updated 202212_11dpf_mom_agg.csv with new 'Subject' values.\n",
      "Updated 202212_1dpf_mom_agg.csv with new 'Subject' values.\n",
      "Updated 202212_3dpf_mom_agg.csv with new 'Subject' values.\n",
      "Updated 202212_5dpf_mom_agg.csv with new 'Subject' values.\n",
      "Updated 202212_7dpf_mom_agg.csv with new 'Subject' values.\n",
      "Updated 202212_9dpf_mom_agg.csv with new 'Subject' values.\n",
      "Updated 202212_night_mom_agg.csv with new 'Subject' values.\n",
      "Updated 2022403_9dpf_mom_agg.csv with new 'Subject' values.\n",
      "Updated 2023012_1dpf_mom_agg.csv with new 'Subject' values.\n",
      "Updated 2023013_1dpf_mom_agg.csv with new 'Subject' values.\n",
      "Updated 202303_5dpf_mom_agg.csv with new 'Subject' values.\n",
      "Updated 202303_night_mom_agg.csv with new 'Subject' values.\n",
      "Updated 202403_11dpf_mom_agg.csv with new 'Subject' values.\n",
      "Updated 202403_1dpf_mom_agg.csv with new 'Subject' values.\n",
      "Updated 202403_3dpf_mom_agg.csv with new 'Subject' values.\n",
      "Updated 202403_5dpf_mom_agg.csv with new 'Subject' values.\n",
      "Updated 202403_7dpf_mom_agg.csv with new 'Subject' values.\n",
      "Updated 202403_night_mom_agg.csv with new 'Subject' values.\n",
      "Updated 202404_1dpf_mom_agg.csv with new 'Subject' values.\n",
      "Updated 202404_3dpf_mom_agg.csv with new 'Subject' values.\n",
      "Updated 202404_5dpf_mom_agg.csv with new 'Subject' values.\n",
      "Updated 202406_1dpf_mom_agg.csv with new 'Subject' values.\n",
      "Updated 202406_3dpf_mom_agg.csv with new 'Subject' values.\n",
      "Updated 202406_5dpf_mom_agg.csv with new 'Subject' values.\n",
      "Updated 202407_1dpf_mom_agg.csv with new 'Subject' values.\n",
      "Updated 202407_3dpf_mom_agg.csv with new 'Subject' values.\n",
      "Updated 202407_5dpf_mom_agg.csv with new 'Subject' values.\n",
      "Updated All_11dpf_mother_agg.csv with new 'Subject' values.\n",
      "Updated All_1dpf_mother_agg.csv with new 'Subject' values.\n",
      "Updated All_3dpf_mother_agg.csv with new 'Subject' values.\n",
      "Updated All_5dpf_mother_agg.csv with new 'Subject' values.\n",
      "Updated All_7dpf_mother_agg.csv with new 'Subject' values.\n",
      "Updated All_9dpf_mother_agg.csv with new 'Subject' values.\n",
      "Updated All_night_mother_agg.csv with new 'Subject' values.\n"
     ]
    }
   ],
   "source": [
    "# Iterate through each CSV file\n",
    "for file_name in csv_files:\n",
    "    file_path = os.path.join(directory_path, file_name)\n",
    "\n",
    "    # Read the CSV file into a pandas DataFrame\n",
    "    df = pd.read_csv(file_path)\n",
    "\n",
    "    # Extract the new 'Subject' values from the filename\n",
    "    new_subject_values = [file_name.split('_')[0] for _ in range(len(df))]\n",
    "\n",
    "    # Replace the 'Subject' column with the new values\n",
    "    df['Subject'] = new_subject_values\n",
    "\n",
    "    # Overwrite the original CSV file with the updated DataFrame\n",
    "    df.to_csv(file_path, index=False)\n",
    "\n",
    "    print(f\"Updated {file_name} with new 'Subject' values.\")"
   ]
  },
  {
   "cell_type": "code",
   "execution_count": 5,
   "metadata": {},
   "outputs": [
    {
     "name": "stdout",
     "output_type": "stream",
     "text": [
      "Collecting scipy\n",
      "  Downloading scipy-1.12.0-cp311-cp311-win_amd64.whl (46.2 MB)\n",
      "                                              0.0/46.2 MB ? eta -:--:--\n",
      "                                              0.0/46.2 MB ? eta -:--:--\n",
      "                                             0.1/46.2 MB 544.7 kB/s eta 0:01:25\n",
      "                                              0.4/46.2 MB 2.6 MB/s eta 0:00:18\n",
      "                                              0.8/46.2 MB 4.2 MB/s eta 0:00:11\n",
      "     -                                        1.4/46.2 MB 5.8 MB/s eta 0:00:08\n",
      "     -                                        2.0/46.2 MB 7.2 MB/s eta 0:00:07\n",
      "     --                                       2.8/46.2 MB 8.6 MB/s eta 0:00:06\n",
      "     ---                                      3.9/46.2 MB 10.3 MB/s eta 0:00:05\n",
      "     ----                                     5.1/46.2 MB 12.2 MB/s eta 0:00:04\n",
      "     -----                                    6.8/46.2 MB 14.4 MB/s eta 0:00:03\n",
      "     -------                                  8.8/46.2 MB 17.1 MB/s eta 0:00:03\n",
      "     ---------                               11.4/46.2 MB 29.7 MB/s eta 0:00:02\n",
      "     ------------                            14.5/46.2 MB 46.7 MB/s eta 0:00:01\n",
      "     ---------------                         18.5/46.2 MB 65.6 MB/s eta 0:00:01\n",
      "     -------------------                     23.4/46.2 MB 93.9 MB/s eta 0:00:01\n",
      "     -----------------------                28.8/46.2 MB 108.8 MB/s eta 0:00:01\n",
      "     --------------------------              31.9/46.2 MB 93.9 MB/s eta 0:00:01\n",
      "     ------------------------------          36.1/46.2 MB 81.8 MB/s eta 0:00:01\n",
      "     ----------------------------------     42.2/46.2 MB 108.8 MB/s eta 0:00:01\n",
      "     -------------------------------------  46.2/46.2 MB 131.2 MB/s eta 0:00:01\n",
      "     -------------------------------------  46.2/46.2 MB 131.2 MB/s eta 0:00:01\n",
      "     -------------------------------------  46.2/46.2 MB 131.2 MB/s eta 0:00:01\n",
      "     --------------------------------------- 46.2/46.2 MB 50.3 MB/s eta 0:00:00\n",
      "Requirement already satisfied: numpy<1.29.0,>=1.22.4 in c:\\users\\ashparker\\.conda\\envs\\boris\\lib\\site-packages (from scipy) (1.25.0)\n",
      "Installing collected packages: scipy\n",
      "Successfully installed scipy-1.12.0\n",
      "Correlation coefficient (r): 0.7962298731021984\n"
     ]
    }
   ],
   "source": [
    "!pip install scipy\n",
    "from scipy.stats import pearsonr\n",
    "\n",
    "# Pairs of observations\n",
    "pairs = [(92, 58), (82, 45), (80, 38), (78, 40), (62, 38), (58, 36)]\n",
    "\n",
    "# Separate the pairs into two lists\n",
    "x = [pair[0] for pair in pairs]  # Before 9 dpf\n",
    "y = [pair[1] for pair in pairs]  # After 9 dpf\n",
    "\n",
    "# Calculate correlation coefficient\n",
    "r, _ = pearsonr(x, y)\n",
    "\n",
    "print(\"Correlation coefficient (r):\", r)"
   ]
  },
  {
   "cell_type": "code",
   "execution_count": 6,
   "metadata": {},
   "outputs": [
    {
     "name": "stdout",
     "output_type": "stream",
     "text": [
      "Collecting statsmodels\n",
      "  Downloading statsmodels-0.14.1-cp311-cp311-win_amd64.whl (9.9 MB)\n",
      "                                              0.0/9.9 MB ? eta -:--:--\n",
      "                                              0.0/9.9 MB ? eta -:--:--\n",
      "                                              0.0/9.9 MB 487.6 kB/s eta 0:00:21\n",
      "     -                                        0.4/9.9 MB 3.3 MB/s eta 0:00:03\n",
      "     ---                                      0.9/9.9 MB 5.4 MB/s eta 0:00:02\n",
      "     -----                                    1.4/9.9 MB 7.0 MB/s eta 0:00:02\n",
      "     ---------                                2.2/9.9 MB 8.8 MB/s eta 0:00:01\n",
      "     ------------                             3.2/9.9 MB 10.6 MB/s eta 0:00:01\n",
      "     -----------------                        4.3/9.9 MB 12.5 MB/s eta 0:00:01\n",
      "     -----------------------                  5.8/9.9 MB 14.9 MB/s eta 0:00:01\n",
      "     -------------------------------          7.8/9.9 MB 17.7 MB/s eta 0:00:01\n",
      "     ---------------------------------------  9.9/9.9 MB 20.3 MB/s eta 0:00:01\n",
      "     ---------------------------------------- 9.9/9.9 MB 19.1 MB/s eta 0:00:00\n",
      "Requirement already satisfied: numpy<2,>=1.18 in c:\\users\\ashparker\\.conda\\envs\\boris\\lib\\site-packages (from statsmodels) (1.25.0)\n",
      "Requirement already satisfied: scipy!=1.9.2,>=1.4 in c:\\users\\ashparker\\.conda\\envs\\boris\\lib\\site-packages (from statsmodels) (1.12.0)\n",
      "Requirement already satisfied: pandas!=2.1.0,>=1.0 in c:\\users\\ashparker\\.conda\\envs\\boris\\lib\\site-packages (from statsmodels) (1.5.3)\n",
      "Collecting patsy>=0.5.4 (from statsmodels)\n",
      "  Downloading patsy-0.5.6-py2.py3-none-any.whl (233 kB)\n",
      "                                              0.0/233.9 kB ? eta -:--:--\n",
      "     ------------------------------------- 233.9/233.9 kB 14.9 MB/s eta 0:00:00\n",
      "Requirement already satisfied: packaging>=21.3 in c:\\users\\ashparker\\.conda\\envs\\boris\\lib\\site-packages (from statsmodels) (23.1)\n",
      "Requirement already satisfied: python-dateutil>=2.8.1 in c:\\users\\ashparker\\.conda\\envs\\boris\\lib\\site-packages (from pandas!=2.1.0,>=1.0->statsmodels) (2.8.2)\n",
      "Requirement already satisfied: pytz>=2020.1 in c:\\users\\ashparker\\.conda\\envs\\boris\\lib\\site-packages (from pandas!=2.1.0,>=1.0->statsmodels) (2022.7)\n",
      "Requirement already satisfied: six in c:\\users\\ashparker\\.conda\\envs\\boris\\lib\\site-packages (from patsy>=0.5.4->statsmodels) (1.16.0)\n",
      "Installing collected packages: patsy, statsmodels\n",
      "Successfully installed patsy-0.5.6 statsmodels-0.14.1\n",
      "Sample size needed: 14\n"
     ]
    }
   ],
   "source": [
    "!pip install statsmodels\n",
    "import statsmodels.stats.power as smp\n",
    "\n",
    "# Parameters\n",
    "alpha = 0.05\n",
    "power = 0.8\n",
    "effect_size = 0.796  # Use the observed correlation coefficient from the pilot study\n",
    "\n",
    "# Perform power analysis\n",
    "nobs = smp.TTestPower().solve_power(effect_size=effect_size, alpha=alpha, power=power, alternative='two-sided')\n",
    "\n",
    "print(\"Sample size needed:\", round(nobs))"
   ]
  },
  {
   "cell_type": "code",
   "execution_count": null,
   "metadata": {},
   "outputs": [],
   "source": []
  }
 ],
 "metadata": {
  "kernelspec": {
   "display_name": "boris",
   "language": "python",
   "name": "python3"
  },
  "language_info": {
   "codemirror_mode": {
    "name": "ipython",
    "version": 3
   },
   "file_extension": ".py",
   "mimetype": "text/x-python",
   "name": "python",
   "nbconvert_exporter": "python",
   "pygments_lexer": "ipython3",
   "version": "3.11.4"
  }
 },
 "nbformat": 4,
 "nbformat_minor": 2
}
